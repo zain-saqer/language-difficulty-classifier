{
  "nbformat": 4,
  "nbformat_minor": 0,
  "metadata": {
    "colab": {
      "name": "RankLingo_V0.ipynb",
      "provenance": [],
      "collapsed_sections": [],
      "toc_visible": true
    },
    "kernelspec": {
      "name": "python3",
      "display_name": "Python 3"
    },
    "language_info": {
      "name": "python"
    }
  },
  "cells": [
    {
      "cell_type": "code",
      "metadata": {
        "id": "emR6ejxnsMXI"
      },
      "source": [
        "import pandas as pd\n",
        "import numpy as np"
      ],
      "execution_count": null,
      "outputs": []
    },
    {
      "cell_type": "code",
      "metadata": {
        "colab": {
          "base_uri": "https://localhost:8080/"
        },
        "id": "KZIE3PGuHVKA",
        "outputId": "b8ee491c-ccd8-4463-8317-d05b363501c6"
      },
      "source": [
        "df = pd.read_csv('labeled_french_sentences.csv');\n",
        "print(df.columns)"
      ],
      "execution_count": null,
      "outputs": [
        {
          "output_type": "stream",
          "text": [
            "Index(['Texte ', 'Average Annotation'], dtype='object')\n"
          ],
          "name": "stdout"
        }
      ]
    },
    {
      "cell_type": "code",
      "metadata": {
        "colab": {
          "base_uri": "https://localhost:8080/"
        },
        "id": "CpvEG_FvfVnk",
        "outputId": "a6e583f3-3a8b-4bbe-b1a6-02fcff923fe2"
      },
      "source": [
        "df.columns = ['text', 'level']\n",
        "print(df.columns)\n",
        "df['text'] = df['text'].str.strip()\n",
        "df['level'] = df['level'].str.strip()\n",
        "sentences = df['text'].values\n",
        "print(sentences[0])"
      ],
      "execution_count": null,
      "outputs": [
        {
          "output_type": "stream",
          "text": [
            "Index(['text', 'level'], dtype='object')\n",
            "Je venais de finir à vingt-deux ans mes études à l’université de Gœttingue.\n"
          ],
          "name": "stdout"
        }
      ]
    },
    {
      "cell_type": "code",
      "metadata": {
        "colab": {
          "base_uri": "https://localhost:8080/"
        },
        "id": "rL9OcuuGfXGs",
        "outputId": "37224b50-fd7b-44d4-970f-f5fb158b5bfb"
      },
      "source": [
        "import nltk\n",
        "nltk.download('punkt')"
      ],
      "execution_count": null,
      "outputs": [
        {
          "output_type": "stream",
          "text": [
            "[nltk_data] Downloading package punkt to /root/nltk_data...\n",
            "[nltk_data]   Unzipping tokenizers/punkt.zip.\n"
          ],
          "name": "stdout"
        },
        {
          "output_type": "execute_result",
          "data": {
            "text/plain": [
              "True"
            ]
          },
          "metadata": {
            "tags": []
          },
          "execution_count": 9
        }
      ]
    },
    {
      "cell_type": "code",
      "metadata": {
        "id": "PVmg6uNxfYvM"
      },
      "source": [
        "from nltk.tokenize import word_tokenize\n",
        "import string\n",
        "\n",
        "tokenized_senctences = []\n",
        "for s in sentences:\n",
        "  tokenized_senctences.append(word_tokenize(s, language='french'))"
      ],
      "execution_count": null,
      "outputs": []
    },
    {
      "cell_type": "code",
      "metadata": {
        "colab": {
          "base_uri": "https://localhost:8080/"
        },
        "id": "Fa6wHfzrfaI5",
        "outputId": "25ed887d-0225-41a8-98e5-c3658a928e96"
      },
      "source": [
        "!pip install wordstats"
      ],
      "execution_count": null,
      "outputs": [
        {
          "output_type": "stream",
          "text": [
            "Collecting wordstats\n",
            "\u001b[?25l  Downloading https://files.pythonhosted.org/packages/7f/79/8f10b9836162ba987f85cd92d61993e4c0bc5ad408be1b7b217ec5a4a6fb/wordstats-1.0.7.tar.gz (3.6MB)\n",
            "\u001b[K     |████████████████████████████████| 3.6MB 2.9MB/s \n",
            "\u001b[?25hCollecting configobj\n",
            "  Downloading https://files.pythonhosted.org/packages/64/61/079eb60459c44929e684fa7d9e2fdca403f67d64dd9dbac27296be2e0fab/configobj-5.0.6.tar.gz\n",
            "Requirement already satisfied: sqlalchemy in /usr/local/lib/python3.7/dist-packages (from wordstats) (1.4.15)\n",
            "Requirement already satisfied: six in /usr/local/lib/python3.7/dist-packages (from configobj->wordstats) (1.15.0)\n",
            "Requirement already satisfied: greenlet!=0.4.17; python_version >= \"3\" in /usr/local/lib/python3.7/dist-packages (from sqlalchemy->wordstats) (1.1.0)\n",
            "Requirement already satisfied: importlib-metadata; python_version < \"3.8\" in /usr/local/lib/python3.7/dist-packages (from sqlalchemy->wordstats) (4.0.1)\n",
            "Requirement already satisfied: typing-extensions>=3.6.4; python_version < \"3.8\" in /usr/local/lib/python3.7/dist-packages (from importlib-metadata; python_version < \"3.8\"->sqlalchemy->wordstats) (3.7.4.3)\n",
            "Requirement already satisfied: zipp>=0.5 in /usr/local/lib/python3.7/dist-packages (from importlib-metadata; python_version < \"3.8\"->sqlalchemy->wordstats) (3.4.1)\n",
            "Building wheels for collected packages: wordstats, configobj\n",
            "  Building wheel for wordstats (setup.py) ... \u001b[?25l\u001b[?25hdone\n",
            "  Created wheel for wordstats: filename=wordstats-1.0.7-cp37-none-any.whl size=3616377 sha256=34c67fc16fce96f1d0a14fc68ebf903ecf72bce0dccbb1ee95ab8b52e667d8d4\n",
            "  Stored in directory: /root/.cache/pip/wheels/19/cd/63/4f1be9b37f67fd5f305b3c7ac88fc8afdb88638589cfa37184\n",
            "  Building wheel for configobj (setup.py) ... \u001b[?25l\u001b[?25hdone\n",
            "  Created wheel for configobj: filename=configobj-5.0.6-cp37-none-any.whl size=34547 sha256=4dc4f57b655dd892bc0672d9bc7742edaa2dea78173f7420bce71edb2675ecb4\n",
            "  Stored in directory: /root/.cache/pip/wheels/f1/e4/16/4981ca97c2d65106b49861e0b35e2660695be7219a2d351ee0\n",
            "Successfully built wordstats configobj\n",
            "Installing collected packages: configobj, wordstats\n",
            "Successfully installed configobj-5.0.6 wordstats-1.0.7\n"
          ],
          "name": "stdout"
        }
      ]
    },
    {
      "cell_type": "code",
      "metadata": {
        "id": "xqXIIDbgfbji"
      },
      "source": [
        "from wordstats import Word\n",
        "# frequency is the calcualted by taking the log from it. \n",
        "# frequency of 'de' = round(math.log(7225478), 2) = 15.79\n",
        "def difficulty(sentence):\n",
        "  freq_sum = 0\n",
        "  \n",
        "  for word in sentence:\n",
        "   freq_sum = freq_sum + Word.stats(word, 'fr').frequency\n",
        "  \n",
        "  freq_mean = freq_sum/len(sentence)\n",
        "  return freq_mean"
      ],
      "execution_count": null,
      "outputs": []
    },
    {
      "cell_type": "code",
      "metadata": {
        "id": "fpZ0DpYm4evk",
        "colab": {
          "base_uri": "https://localhost:8080/"
        },
        "outputId": "bd54b830-7a18-46f9-b832-dcc8eb34f4dc"
      },
      "source": [
        "print(difficulty('de'))"
      ],
      "execution_count": null,
      "outputs": [
        {
          "output_type": "stream",
          "text": [
            "9.31\n"
          ],
          "name": "stdout"
        }
      ]
    },
    {
      "cell_type": "code",
      "metadata": {
        "id": "llbrVWsafhgG"
      },
      "source": [
        "X = []\n",
        "\n",
        "# calculate avarage word difficulty and length\n",
        "for s in tokenized_senctences:\n",
        "  sum = 0\n",
        "  count = 0\n",
        "  for t in s:\n",
        "    d = difficulty(t)\n",
        "    if (d > 0):\n",
        "      sum += d\n",
        "      count += 1\n",
        "  X.append([sum/count, len(s)])\n",
        "\n",
        "X = np.array(X)\n",
        "\n",
        "\n"
      ],
      "execution_count": null,
      "outputs": []
    },
    {
      "cell_type": "code",
      "metadata": {
        "id": "DcVWI5VnjM3L"
      },
      "source": [
        "\n",
        "y = df['level'].values"
      ],
      "execution_count": null,
      "outputs": []
    },
    {
      "cell_type": "code",
      "metadata": {
        "colab": {
          "base_uri": "https://localhost:8080/",
          "height": 514
        },
        "id": "cL2TMGtHfkJ-",
        "outputId": "bbc0d4ff-c364-41b2-d069-1e4f019f0e5e"
      },
      "source": [
        "import matplotlib.pyplot as plt \n",
        "\n",
        "fig, ax = plt.subplots(figsize = (8, 8))\n",
        "colors = {'A1':'red', 'A2':'green', 'B1':'blue', 'B2':'yellow', 'C1':'black', 'C2': 'cyan'}\n",
        "ax.scatter(X[:, 0],X[:, 1], c=[colors[k] for k in y])\n",
        "\n",
        "plt.xlabel(\"Avarage difficality\")\n",
        "plt.ylabel(\"word count\")\n"
      ],
      "execution_count": null,
      "outputs": [
        {
          "output_type": "execute_result",
          "data": {
            "text/plain": [
              "Text(0, 0.5, 'word count')"
            ]
          },
          "metadata": {
            "tags": []
          },
          "execution_count": 16
        },
        {
          "output_type": "display_data",
          "data": {
            "image/png": "[encoded data removed]",
            "text/plain": [
              "<Figure size 576x576 with 1 Axes>"
            ]
          },
          "metadata": {
            "tags": [],
            "needs_background": "light"
          }
        }
      ]
    },
    {
      "cell_type": "markdown",
      "metadata": {
        "id": "ubYZ5qxF_ntx"
      },
      "source": [
        "## Logistic regression"
      ]
    },
    {
      "cell_type": "code",
      "metadata": {
        "id": "Vi5QQYO8_teI"
      },
      "source": [
        "from sklearn.model_selection import train_test_split\n",
        "x_train, x_test, y_train, y_test = train_test_split(X, y, test_size=0.2, random_state=0)"
      ],
      "execution_count": null,
      "outputs": []
    },
    {
      "cell_type": "code",
      "metadata": {
        "colab": {
          "base_uri": "https://localhost:8080/"
        },
        "id": "QPY-bF7B_ubT",
        "outputId": "6b3b04e2-5312-46df-e1f7-daf860a3dc16"
      },
      "source": [
        "from sklearn.linear_model import LogisticRegression\n",
        "logisticRegr = LogisticRegression()\n",
        "logisticRegr.fit(x_train, y_train)"
      ],
      "execution_count": null,
      "outputs": [
        {
          "output_type": "stream",
          "text": [
            "/usr/local/lib/python3.7/dist-packages/sklearn/linear_model/_logistic.py:940: ConvergenceWarning: lbfgs failed to converge (status=1):\n",
            "STOP: TOTAL NO. of ITERATIONS REACHED LIMIT.\n",
            "\n",
            "Increase the number of iterations (max_iter) or scale the data as shown in:\n",
            "    https://scikit-learn.org/stable/modules/preprocessing.html\n",
            "Please also refer to the documentation for alternative solver options:\n",
            "    https://scikit-learn.org/stable/modules/linear_model.html#logistic-regression\n",
            "  extra_warning_msg=_LOGISTIC_SOLVER_CONVERGENCE_MSG)\n"
          ],
          "name": "stderr"
        },
        {
          "output_type": "execute_result",
          "data": {
            "text/plain": [
              "LogisticRegression(C=1.0, class_weight=None, dual=False, fit_intercept=True,\n",
              "                   intercept_scaling=1, l1_ratio=None, max_iter=100,\n",
              "                   multi_class='auto', n_jobs=None, penalty='l2',\n",
              "                   random_state=None, solver='lbfgs', tol=0.0001, verbose=0,\n",
              "                   warm_start=False)"
            ]
          },
          "metadata": {
            "tags": []
          },
          "execution_count": 18
        }
      ]
    },
    {
      "cell_type": "code",
      "metadata": {
        "colab": {
          "base_uri": "https://localhost:8080/"
        },
        "id": "mAu_DSv0AXtu",
        "outputId": "e872f0b2-b949-4b06-e173-055edb5d23e8"
      },
      "source": [
        "# Use score method to get accuracy of model\n",
        "score = logisticRegr.score(x_test, y_test)\n",
        "print(score)"
      ],
      "execution_count": null,
      "outputs": [
        {
          "output_type": "stream",
          "text": [
            "0.38620689655172413\n"
          ],
          "name": "stdout"
        }
      ]
    },
    {
      "cell_type": "code",
      "metadata": {
        "id": "3qMFJe4ZAk9M"
      },
      "source": [
        "import matplotlib.pyplot as plt\n",
        "import seaborn as sns\n",
        "from sklearn import metrics"
      ],
      "execution_count": null,
      "outputs": []
    },
    {
      "cell_type": "code",
      "metadata": {
        "colab": {
          "base_uri": "https://localhost:8080/"
        },
        "id": "gUxCNzffAshw",
        "outputId": "c6f4add2-7579-46ed-c80b-e7992fbfd173"
      },
      "source": [
        "y_pred = logisticRegr.predict(x_test)\n",
        "cm = metrics.confusion_matrix(y_test, y_pred)\n",
        "print(cm)"
      ],
      "execution_count": null,
      "outputs": [
        {
          "output_type": "stream",
          "text": [
            "[[41  8  0  0  0  1]\n",
            " [11 27  0  0  0  9]\n",
            " [11 29  0  0  3  6]\n",
            " [ 9 12  0  0  3 16]\n",
            " [ 3  9  0  0 10 26]\n",
            " [ 8  6  0  0  8 34]]\n"
          ],
          "name": "stdout"
        }
      ]
    },
    {
      "cell_type": "code",
      "metadata": {
        "colab": {
          "base_uri": "https://localhost:8080/"
        },
        "id": "dTkpB1-GAuZ5",
        "outputId": "b06c7417-7fe8-46e0-f6a2-d1876f399d6d"
      },
      "source": [
        "print(metrics.classification_report(y_test, y_pred))"
      ],
      "execution_count": null,
      "outputs": [
        {
          "output_type": "stream",
          "text": [
            "              precision    recall  f1-score   support\n",
            "\n",
            "          A1       0.49      0.82      0.62        50\n",
            "          A2       0.30      0.57      0.39        47\n",
            "          B1       0.00      0.00      0.00        49\n",
            "          B2       0.00      0.00      0.00        40\n",
            "          C1       0.42      0.21      0.28        48\n",
            "          C2       0.37      0.61      0.46        56\n",
            "\n",
            "    accuracy                           0.39       290\n",
            "   macro avg       0.26      0.37      0.29       290\n",
            "weighted avg       0.27      0.39      0.30       290\n",
            "\n"
          ],
          "name": "stdout"
        },
        {
          "output_type": "stream",
          "text": [
            "/usr/local/lib/python3.7/dist-packages/sklearn/metrics/_classification.py:1272: UndefinedMetricWarning: Precision and F-score are ill-defined and being set to 0.0 in labels with no predicted samples. Use `zero_division` parameter to control this behavior.\n",
            "  _warn_prf(average, modifier, msg_start, len(result))\n"
          ],
          "name": "stderr"
        }
      ]
    },
    {
      "cell_type": "markdown",
      "metadata": {
        "id": "_VmkdhgXDUVl"
      },
      "source": [
        "**results are bad**"
      ]
    },
    {
      "cell_type": "markdown",
      "metadata": {
        "id": "dVxoDoyDOaPr"
      },
      "source": [
        "## Naive Bayes"
      ]
    },
    {
      "cell_type": "code",
      "metadata": {
        "id": "Jk49Le4SOarK"
      },
      "source": [
        "import pdb\n",
        "from nltk.corpus import stopwords, twitter_samples\n",
        "import numpy as np\n",
        "import pandas as pd\n",
        "import nltk\n",
        "import string\n",
        "from nltk.tokenize import TweetTokenizer\n",
        "from os import getcwd"
      ],
      "execution_count": null,
      "outputs": []
    },
    {
      "cell_type": "code",
      "metadata": {
        "colab": {
          "base_uri": "https://localhost:8080/"
        },
        "id": "4WDvuTtZ2QqQ",
        "outputId": "fa3bd293-96a2-4f6f-dfec-16ba0ff066ce"
      },
      "source": [
        "nltk.download('stopwords')"
      ],
      "execution_count": null,
      "outputs": [
        {
          "output_type": "stream",
          "text": [
            "[nltk_data] Downloading package stopwords to /root/nltk_data...\n",
            "[nltk_data]   Package stopwords is already up-to-date!\n"
          ],
          "name": "stdout"
        },
        {
          "output_type": "execute_result",
          "data": {
            "text/plain": [
              "True"
            ]
          },
          "metadata": {
            "tags": []
          },
          "execution_count": 202
        }
      ]
    },
    {
      "cell_type": "code",
      "metadata": {
        "id": "G9kr47CJIqxL"
      },
      "source": [
        "from nltk.tokenize import word_tokenize\n",
        "import string\n",
        "from nltk.stem.snowball import SnowballStemmer\n",
        "\n",
        "stimmer = SnowballStemmer('french', ignore_stopwords=True)\n",
        "\n",
        "def process_senctence(senctence):\n",
        "    '''\n",
        "    Input:\n",
        "        senctence: a string containing a french sentence\n",
        "    Output:\n",
        "        senctence_out: a list of words containing the processed sentence\n",
        "\n",
        "    '''\n",
        "    sentence_tokens = word_tokenize(senctence, language='french')\n",
        "\n",
        "    senctence_out = []\n",
        "    for word in sentence_tokens:\n",
        "        if (word not in string.punctuation):  # remove punctuation\n",
        "            # senctence_out.append(stimmer.stem(word))\n",
        "            senctence_out.append(word)\n",
        "\n",
        "    return senctence_out"
      ],
      "execution_count": null,
      "outputs": []
    },
    {
      "cell_type": "code",
      "metadata": {
        "colab": {
          "base_uri": "https://localhost:8080/"
        },
        "id": "1ChSyJeVX_Rb",
        "outputId": "b3294862-746a-4272-e848-3434b96a95b3"
      },
      "source": [
        "print(process_senctence(df['text'][0]))"
      ],
      "execution_count": null,
      "outputs": [
        {
          "output_type": "stream",
          "text": [
            "['je', 'ven', 'de', 'fin', 'à', 'vingt-deux', 'an', 'mes', 'étud', 'à', 'l', '’', 'univers', 'de', 'gœttingu']\n"
          ],
          "name": "stdout"
        }
      ]
    },
    {
      "cell_type": "code",
      "metadata": {
        "id": "95fv428BYBrc"
      },
      "source": [
        "def count_words(result, sentences, ys):\n",
        "    '''\n",
        "    Input:\n",
        "        result: a dictionary that will be used to map each pair to its frequency\n",
        "        sentences: a list of senctences\n",
        "        ys: a list corresponding to the level of each senctence (A1, A2, B1, B2,\n",
        "          C1, C2)\n",
        "    Output:\n",
        "        result: a dictionary mapping each pair to its frequency\n",
        "    '''\n",
        "\n",
        "    for y, senctence in zip(ys, sentences):\n",
        "      if type(senctence) == str:\n",
        "        for word in process_senctence(senctence):\n",
        "            pair = (word, y)\n",
        "            if pair in result:\n",
        "                result[pair] += 1\n",
        "            else:\n",
        "                result[pair] = 1\n",
        "\n",
        "    return result"
      ],
      "execution_count": null,
      "outputs": []
    },
    {
      "cell_type": "code",
      "metadata": {
        "id": "QU8qFh-2fHji"
      },
      "source": [
        "def train_naive_bayes(freqs, train_x, train_y):\n",
        "    '''\n",
        "    Input:\n",
        "        freqs: dictionary from (word, label) to how often the word appears\n",
        "        train_x: a list of sentences\n",
        "        train_y: a list of labels correponding to the sentences (0,1)\n",
        "    Output:\n",
        "        logprior: the log prior. (equation 3 above)\n",
        "        loglikelihood: the log likelihood of you Naive bayes equation. (equation 6 above)\n",
        "    '''\n",
        "    loglikelihood = {}\n",
        "    logprior = 0\n",
        "\n",
        "    # calculate V, the number of unique words in the vocabulary\n",
        "    vocab = set([pair[0] for pair in freqs.keys()])\n",
        "    V = len(vocab)\n",
        "\n",
        "    # calculate N_pos and N_neg\n",
        "    N_pos = N_neg = 0\n",
        "    for pair in freqs.keys():\n",
        "        # if the label is positive (greater than zero)\n",
        "        if pair[1] == 1:\n",
        "\n",
        "            # Increment the number of positive words by the count for this (word, label) pair\n",
        "            N_pos += freqs[pair]\n",
        "\n",
        "        # else, the label is negative\n",
        "        else:\n",
        "\n",
        "            # increment the number of negative words by the count for this (word,label) pair\n",
        "            N_neg += freqs[pair]\n",
        "\n",
        "    # Calculate D, the number of documents\n",
        "    D = len(train_y)\n",
        "\n",
        "    # Calculate D_pos, the number of positive documents (*hint: use sum(<np_array>))\n",
        "    D_pos = np.sum((train_y).astype(int))\n",
        "\n",
        "    # Calculate D_neg, the number of negative documents (*hint: compute using D and D_pos)\n",
        "    D_neg = D - D_pos\n",
        "\n",
        "    # Calculate logprior\n",
        "    logprior = np.log(D_pos) - np.log(D_neg)\n",
        "\n",
        "    # For each word in the vocabulary...\n",
        "    for word in vocab:\n",
        "        # get the positive and negative frequency of the word\n",
        "        freq_pos = freqs[(word, 1)] if (word, 1) in freqs else 0\n",
        "        freq_neg = freqs[(word, 0)] if (word, 0) in freqs else 0\n",
        "\n",
        "        # calculate the probability that each word is positive, and negative\n",
        "        p_w_pos = (freq_pos + 1) / (N_pos + V)\n",
        "        p_w_neg = (freq_neg + 1) / (N_neg + V)\n",
        "\n",
        "        # calculate the log likelihood of the word\n",
        "        loglikelihood[word] = np.log(p_w_pos) - np.log(p_w_neg)\n",
        "\n",
        "    ### END CODE HERE ###\n",
        "\n",
        "    return logprior, loglikelihood\n"
      ],
      "execution_count": null,
      "outputs": []
    },
    {
      "cell_type": "code",
      "metadata": {
        "id": "eva0wyhshfA1"
      },
      "source": [
        "def naive_bayes_predict(sentence, logprior, loglikelihood):\n",
        "    '''\n",
        "    Input:\n",
        "        sentence: a string\n",
        "        logprior: a number\n",
        "        loglikelihood: a dictionary of words mapping to numbers\n",
        "    Output:\n",
        "        p: the sum of all the logliklihoods of each word in the sentence (if found in the dictionary) + logprior (a number)\n",
        "\n",
        "    '''\n",
        "    # process the sentence to get a list of words\n",
        "    word_l = process_senctence(sentence)\n",
        "\n",
        "    # initialize probability to zero\n",
        "    p = 0\n",
        "\n",
        "    # add the logprior\n",
        "    p += logprior\n",
        "\n",
        "    for word in word_l:\n",
        "\n",
        "        # check if the word exists in the loglikelihood dictionary\n",
        "        if word in loglikelihood:\n",
        "            # add the log likelihood of that word to the probability\n",
        "            p += loglikelihood[word]\n",
        "\n",
        "    return p"
      ],
      "execution_count": null,
      "outputs": []
    },
    {
      "cell_type": "code",
      "metadata": {
        "id": "xpITUpfDkgU5"
      },
      "source": [
        "def test_naive_bayes(test_x, test_y, logprior, loglikelihood):\n",
        "    \"\"\"\n",
        "    Input:\n",
        "        test_x: List of sentences\n",
        "        test_y: Labels corresponding to the list of sentences\n",
        "        logprior: Log prior\n",
        "        loglikelihood: Dictionary mapping words to their loglikelihoods\n",
        "    Output:\n",
        "        accuracy: (# of sentences classified correctly) / (total # of sentences)\n",
        "    \"\"\"\n",
        "\n",
        "    # START CODE HERE\n",
        "\n",
        "    # List of predicted labels:\n",
        "    y_hats = []\n",
        "\n",
        "    for sentence in test_x:\n",
        "        # Prediction is > 0:\n",
        "        if naive_bayes_predict(sentence, logprior, loglikelihood) > 0:\n",
        "            # Predicted label is 1:\n",
        "            y_hat_i = 1\n",
        "        else:\n",
        "            # Predicted label is 0:\n",
        "            y_hat_i = 0\n",
        "        # Append the predicted label to the list y_hats:\n",
        "        y_hats.append(y_hat_i)\n",
        "\n",
        "    # error is the average of the absolute values of the differences between\n",
        "    # test_y and y_hats:\n",
        "    error = test_y - np.array(y_hats)\n",
        "    error = np.mean(np.absolute(error))\n",
        "\n",
        "    # accuracy is 1 minus the error:\n",
        "    accuracy = 1 - error\n",
        "\n",
        "    # END CODE HERE\n",
        "\n",
        "    return accuracy"
      ],
      "execution_count": null,
      "outputs": []
    },
    {
      "cell_type": "code",
      "metadata": {
        "colab": {
          "base_uri": "https://localhost:8080/"
        },
        "id": "bWB3l7S3aIbQ",
        "outputId": "906bdf7a-0610-4f6d-e194-afd8a3e67d3b"
      },
      "source": [
        "result = {}\n",
        "temp_sentences = df['text'][1:3]\n",
        "ys = df['level'][1:3]\n",
        "print(count_words(result, temp_sentences, ys))"
      ],
      "execution_count": null,
      "outputs": [
        {
          "output_type": "stream",
          "text": [
            "{('L', 'B2'): 1, ('’', 'B2'): 4, ('intention', 'B2'): 1, ('de', 'B2'): 5, ('mon', 'B2'): 1, ('père', 'B2'): 1, ('ministre', 'B2'): 1, ('l', 'B2'): 2, ('électeur', 'B2'): 1, ('***', 'B2'): 1, ('était', 'B2'): 2, ('que', 'B2'): 1, ('je', 'B2'): 1, ('parcourusse', 'B2'): 1, ('les', 'B2'): 2, ('pays', 'B2'): 1, ('plus', 'B2'): 1, ('remarquables', 'B2'): 1, ('Europe', 'B2'): 1, ('Il', 'B2'): 1, ('voulait', 'B2'): 1, ('ensuite', 'B2'): 1, ('m', 'B2'): 1, ('appeler', 'B2'): 1, ('auprès', 'B2'): 1, ('lui', 'B2'): 2, ('me', 'B2'): 2, ('faire', 'B2'): 1, ('entrer', 'B2'): 1, ('dans', 'B2'): 1, ('le', 'B2'): 2, ('département', 'B2'): 1, ('dont', 'B2'): 1, ('la', 'B2'): 1, ('direction', 'B2'): 1, ('confiée', 'B2'): 1, ('et', 'B2'): 1, ('préparer', 'B2'): 1, ('à', 'B2'): 1, ('remplacer', 'B2'): 1, ('un', 'B2'): 1, ('jour', 'B2'): 1}\n"
          ],
          "name": "stdout"
        }
      ]
    },
    {
      "cell_type": "code",
      "metadata": {
        "id": "Y13BThUsbeEb"
      },
      "source": [
        "all_sentences = df['text'].str.strip().to_numpy()\n",
        "all_levels = df['level'].str.strip().to_numpy()"
      ],
      "execution_count": null,
      "outputs": []
    },
    {
      "cell_type": "code",
      "metadata": {
        "id": "Mw8zcGzTd2cU"
      },
      "source": [
        "from sklearn.model_selection import train_test_split\n",
        "x_train, x_test, y_train, y_test = train_test_split(all_sentences, all_levels, test_size=0.2, random_state=0)"
      ],
      "execution_count": null,
      "outputs": []
    },
    {
      "cell_type": "code",
      "metadata": {
        "id": "hPd8Kogw3MHv"
      },
      "source": [
        "def train(level, x_train, y_train, x_test, y_test):\n",
        "  a1_y_train = (y_train == level).astype(int)\n",
        "  a1_y_test = (y_test == level).astype(int)\n",
        "\n",
        "  freqs = count_words({}, x_train, a1_y_train)\n",
        "\n",
        "  logprior, loglikelihood = train_naive_bayes(freqs, x_train, a1_y_train)\n",
        "  accuracy = test_naive_bayes(x_test, a1_y_test, logprior, loglikelihood)\n",
        "  return logprior, loglikelihood, accuracy"
      ],
      "execution_count": null,
      "outputs": []
    },
    {
      "cell_type": "code",
      "metadata": {
        "colab": {
          "base_uri": "https://localhost:8080/"
        },
        "id": "LNPiTyu3e7g6",
        "outputId": "a0260a41-9c8d-4283-8c3e-4b6842c2c06e"
      },
      "source": [
        "level = 'B2'\n",
        "logprior, loglikelihood, accuracy = train('A1', x_train, y_train, x_test, y_test)\n",
        "print(\"A1 - Naive Bayes accuracy = %0.4f\" % accuracy)\n",
        "\n",
        "logprior, loglikelihood, accuracy = train('A2', x_train, y_train, x_test, y_test)\n",
        "print(\"A2 - Naive Bayes accuracy = %0.4f\" % accuracy)\n",
        "\n",
        "logprior, loglikelihood, accuracy = train('B1', x_train, y_train, x_test, y_test)\n",
        "print(\"B1 - Naive Bayes accuracy = %0.4f\" % accuracy)\n",
        "\n",
        "logprior, loglikelihood, accuracy = train('B1', x_train, y_train, x_test, y_test)\n",
        "print(\"B2 - Naive Bayes accuracy = %0.4f\" % accuracy)\n",
        "\n",
        "logprior, loglikelihood, accuracy = train('C1', x_train, y_train, x_test, y_test)\n",
        "print(\"C1 - Naive Bayes accuracy = %0.4f\" % accuracy)\n",
        "\n",
        "logprior, loglikelihood, accuracy = train('C2', x_train, y_train, x_test, y_test)\n",
        "print(\"C2 - Naive Bayes accuracy = %0.4f\" % accuracy)"
      ],
      "execution_count": null,
      "outputs": [
        {
          "output_type": "stream",
          "text": [
            "A1 - Naive Bayes accuracy = 0.8621\n",
            "A2 - Naive Bayes accuracy = 0.8241\n",
            "B1 - Naive Bayes accuracy = 0.8414\n",
            "B2 - Naive Bayes accuracy = 0.8414\n",
            "C1 - Naive Bayes accuracy = 0.8483\n",
            "C2 - Naive Bayes accuracy = 0.8345\n"
          ],
          "name": "stdout"
        }
      ]
    },
    {
      "cell_type": "markdown",
      "metadata": {
        "id": "13G9lNfB6Yeb"
      },
      "source": [
        "# Classification with more features\n"
      ]
    }
  ]
}